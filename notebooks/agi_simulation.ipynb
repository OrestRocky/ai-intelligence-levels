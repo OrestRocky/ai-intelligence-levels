
nb.cells.append(nbf.v4.new_markdown_cell(
    "# ANI Example: Classifying Iris Flowers with Logistic Regression\n"
    "This notebook demonstrates **Artificial Narrow Intelligence (ANI)** by training a model to classify types of iris flowers based on sepal and petal features.\n"
))
nb.cells.append(nbf.v4.new_code_cell(
    "from sklearn.datasets import load_iris\n"
    "from sklearn.linear_model import LogisticRegression\n"
    "from sklearn.model_selection import train_test_split\n"
    "from sklearn.metrics import accuracy_score\n"
    "import pandas as pd\n\n"
    "# Load dataset\n"
    "iris = load_iris()\n"
    "X = iris.data\n"
    "y = iris.target\n"
    "feature_names = iris.feature_names\n"
    "target_names = iris.target_names\n"
    "df = pd.DataFrame(X, columns=feature_names)\n"
    "df['target'] = y\n"
    "df.head()"
))

    "# Split dataset\n"
    "X_train, X_test, y_train, y_test = train_test_split(X, y, test_size=0.3, random_state=42)\n\n"
    "# Train logistic regression model\n"
    "model = LogisticRegression(max_iter=200)\n"
    "model.fit(X_train, y_train)"
))

    "# Predict and calculate accuracy\n"
    "y_pred = model.predict(X_test)\n"
    "accuracy = accuracy_score(y_test, y_pred)\n"
    "print(f\"Model accuracy: {accuracy:.2f}\")"
))


notebook_path

